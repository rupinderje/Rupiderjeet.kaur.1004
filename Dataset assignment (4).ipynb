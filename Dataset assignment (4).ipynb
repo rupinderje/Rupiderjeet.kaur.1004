{
 "cells": [
  {
   "cell_type": "markdown",
   "id": "7c43b0dd",
   "metadata": {},
   "source": [
    "                                            Problem set 1 (solutions)"
   ]
  },
  {
   "cell_type": "markdown",
   "id": "36bcdd77",
   "metadata": {},
   "source": [
    "                                              \n",
    "# Question1: C#\n",
    "\n",
    "What data type is each of the following?\n",
    "\n",
    "Answer-1\n",
    "\n",
    "5\t-The expression is a literal integer value.\n",
    "Data type: int\n",
    "\n",
    "\n",
    "\n",
    "\n",
    "5.0\t-The expression is a literal floating-point value.\n",
    "Data type: double\n",
    "\n",
    "\n",
    "\n",
    "\n",
    "\n",
    "\n",
    "5 > 1\t-The expression is a comparison between two integers.\n",
    "Data type: bool\n",
    "\n",
    "\n",
    "\n",
    "\n",
    "\n",
    "‘5’\t-The expression is a character literal enclosed in single quotes.\n",
    "Data type: char\n",
    "\n",
    "\n",
    "\n",
    "\n",
    "\n",
    "5 * 2\t-The expression is a multiplication of two integers.\n",
    "Data type: int\n",
    "\n",
    "\n",
    "\n",
    "\n",
    "‘5’ * 2\t-The expression attempts to multiply a character by an integer, which is not valid in C#.\n",
    "This expression would result in a compilation error.\n",
    "\n",
    "\n",
    "\n",
    "‘5’ + ‘2’\t-The expression concatenates two characters.\n",
    "Data type: string\n",
    "\n",
    "\n",
    "\n",
    "5 / 2\t-The expression is a division of two integers.\n",
    "Data type: int (integer division truncates the decimal part)\n",
    "\n",
    "\n",
    "\n",
    "5 % 2\t-The expression is the modulus operation, which calculates the remainder of the division.\n",
    "Data type: int\n",
    "\n",
    "\n",
    "\n",
    "{5, 2, 1}\t-The expression represents an array initializer with three integer values.\n",
    "Data type: int[] (array of integers)\n",
    "\n",
    "\n",
    "\n",
    "5 == 3\t-The expression compares two integers for equality.\n",
    "Data type: bool\n",
    "\n",
    "\n",
    "\n",
    "\n",
    "Pi (the number)\t-The expression seems to refer to the mathematical constant Pi.\n",
    "However, the Pi constant itself is not defined in the C# language by default.\n",
    "To use Pi, you would need to import the System.Math namespace and access it through Math.PI.\n",
    "Data type: double\n"
   ]
  },
  {
   "cell_type": "code",
   "execution_count": null,
   "id": "74848484",
   "metadata": {},
   "outputs": [],
   "source": [
    "using System;\n",
    "class program \n",
    "{\n",
    "static void Main()\n",
    "{\n",
    "CheckDataType(5);\n",
    "CheckDataType(5.0);\n",
    "CheckDataType(5 > 1);\n",
    "CheckDataType('5');\n",
    "CheckDataType(5 * 2);\n",
    "CheckDataType('5' * 2);\n",
    "CheckDataType('5' + '2');\n",
    "CheckDataType(5 / 2);\n",
    "CheckDataType(5 % 2);\n",
    "CheckDataType(new int[] { 5, 2, 1 });\n",
    "1\n",
    "CheckDataType(5 == 3);\n",
    "CheckDataType(Math.PI);\n",
    "}\n",
    "static void CheckDataType<T>(T value)\n",
    "{\n",
    "Console.WriteLine($\"value: {value}, Data Type: {typeof(T)}\");\n",
    "}\n",
    "}"
   ]
  },
  {
   "cell_type": "markdown",
   "id": "06815b9e",
   "metadata": {},
   "source": [
    "value: 5, Data Type: System.Int32   \n",
    "\n",
    "value: 5, Data Type: System.Double\n",
    "\n",
    "value: True, Data Type: System.Boolean\n",
    "\n",
    "value: 5, Data Type: System.Char\n",
    "\n",
    "value: 10, Data Type: System.Int32\n",
    "\n",
    "value: 106, Data Type: System.Int32\n",
    "\n",
    "value: 103, Data Type: System.Int32\n",
    "\n",
    "value: 2, Data Type: System.Int32\n",
    "\n",
    "value: 1, Data Type: System.Int32\n",
    "\n",
    "value: System.Int32[], Data Type: System.Int32[]\n",
    "\n",
    "value: False, Data Type: System.Boolean\n",
    "\n",
    "value: 3.141592653589793, Data Type: System.Double"
   ]
  },
  {
   "cell_type": "markdown",
   "id": "f38ae637",
   "metadata": {},
   "source": [
    "# Question 2 \n",
    "\n",
    "2(a) How many letter are there in a “Supercalifragilisticexpialidocious”?\n",
    "\n",
    "Answer:\n",
    "\n"
   ]
  },
  {
   "cell_type": "code",
   "execution_count": null,
   "id": "fd323170",
   "metadata": {},
   "outputs": [],
   "source": [
    "using System;\n",
    "\n",
    "namespace MyApplication\n",
    "{\n",
    "  class Program\n",
    "  {\n",
    "    static void Main(string[] args)\n",
    "    {\n",
    "      string greeting = \"Supercalifragilisticexpialidocious\";\n",
    "      Console.WriteLine(greeting.Length);  \n",
    "     }\n",
    "  }\n",
    "}\n"
   ]
  },
  {
   "cell_type": "markdown",
   "id": "0e093996",
   "metadata": {},
   "source": [
    "The number of letters in the word is: 34\n",
    "    \n",
    "    \n",
    "(The code above declares a string variable word and assigns it the value \"Supercalifragilisticexpialidocious\". The Length property of the string is then accessed and stored in the letterCount variable. Finally, the result is printed to the console.)\n",
    "\n"
   ]
  },
  {
   "cell_type": "markdown",
   "id": "5f4851d6",
   "metadata": {},
   "source": [
    "(b) Does ‘Supercalifragilisticexpialidocious’ contain ‘ice’ as a substring?\n",
    "Answer: To determine if the string ‘Supercalifragilisticexpialidocious’ contains the substring ‘ice’ in C#, you can use the Contains method from the String class. Here’s the C# expression:\n",
    "Bool containsIce = “Supercalifragilisticexpialidocious”.Contains(“ice”);\n",
    "The Contains method returns a Boolean value indicating whether the specified substring is found within the original string. In this case, the variable containsIce will be true if the substring ‘ice’ is present in the string, and false otherwise.\n",
    "You can evaluate this expression in a C# program to see the result:"
   ]
  },
  {
   "cell_type": "code",
   "execution_count": null,
   "id": "2e8f9723",
   "metadata": {},
   "outputs": [],
   "source": [
    "using System;  \n",
    "namespace CsharpString\n",
    "{  \n",
    "  class Test\n",
    "    {\n",
    "    public static void Main(string[] args) \n",
    "        {\n",
    "   \n",
    "      string str = \"Supercalifragilisticexpialidocious\";  \n",
    "\n",
    "      // check if str contains \"ice\"\n",
    "      bool check = str.Contains(\"ice\");\n",
    "\n",
    "      Console.WriteLine(check);   \n",
    "\n",
    "      Console.ReadLine();    \n",
    "    }\n",
    "  }\n",
    "}\n"
   ]
  },
  {
   "cell_type": "markdown",
   "id": "4915952b",
   "metadata": {},
   "source": [
    "True\n",
    "\n",
    "\n",
    "When you run this program, it will output True, indicating that the string \"Supercalifragilisticexpialidocious\" indeed contains the substring ‘ice’.\n"
   ]
  },
  {
   "cell_type": "markdown",
   "id": "a2583958",
   "metadata": {},
   "source": [
    "C. Which of the following words is the longest: \n",
    "\n",
    "Supercalifragilisticexpialidocious, Honorificabilitudinitatibus, or Bababadalgharaghtakamminarronnkonn?\n",
    "\n",
    "Answer:\n",
    "\n",
    "To find the longest word among “Supercalifragilisticexpialidocious,” “Honorificabilitudinitatibus,” and “Bababadalgharaghtakamminarronnkonn” in C#, you can compare the lengths of these strings using the Length property. \n",
    "\n",
    "Here’s the C# expression:"
   ]
  },
  {
   "cell_type": "code",
   "execution_count": null,
   "id": "0c866441",
   "metadata": {},
   "outputs": [],
   "source": [
    "string word1 = \"Supercalifragilisticexpialidocious\";\n",
    "string word2 = \"Honorificabilitudinitatibus\";\n",
    "string word3 = \"Bababadalgharaghtakamminarronnkonn\";\n",
    "string longestWord = \"\";\n",
    "if (word1.Length > word2.Length && word1.Length > word3.Length)\n",
    "{\n",
    "longestWord = word1;\n",
    "}\n",
    "else if (word2.Length > word1.Length && word2.Length > word3.Length)\n",
    "{\n",
    "longestWord = word2;\n",
    "}\n",
    "else\n",
    "{\n",
    "longestWord = word3;\n",
    "}\n",
    "Console.WriteLine(\"The longest word is: \" + longestWord);\n"
   ]
  },
  {
   "cell_type": "markdown",
   "id": "f7e44d63",
   "metadata": {},
   "source": [
    "For Example:\n",
    "\n",
    "\n",
    "Here’s a complete C# program that evaluates this expression:"
   ]
  },
  {
   "cell_type": "code",
   "execution_count": null,
   "id": "2ab20da7",
   "metadata": {},
   "outputs": [],
   "source": [
    "using System;\n",
    "\n",
    "class Program\n",
    "  {\n",
    "    static void Main(string[] args)\n",
    "    {\n",
    "string word1 = \"Supercalifragilisticexpialidocious\";\n",
    "string word2 = \"Honorificabilitudinitatibus\";\n",
    "string word3 = \"Bababadalgharaghtakamminarronnkonn\";\n",
    "string longestWord = \"\";\n",
    "if (word1.Length > longestWord.Length)\n",
    "    longestWord = word1;\n",
    "if (word2.Length > longestWord.Length)\n",
    "    longestWord = word2;\n",
    "if (word3.Length > longestWord.Length)\n",
    "    longestWord = word3;\n",
    "Console.WriteLine(\"The longest word is: \" + longestWord);\n",
    "\n"
   ]
  },
  {
   "cell_type": "markdown",
   "id": "67e0fa45",
   "metadata": {},
   "source": [
    "The longest word is: Supercalifragilisticexpialidocious\n",
    "    \n",
    "    \n",
    "Therefore, \"Supercalifragilisticexpialidocious\" is the longest word among the given options.\n"
   ]
  },
  {
   "cell_type": "markdown",
   "id": "90a08f48",
   "metadata": {},
   "source": [
    "D. Which composer comes first in the dictionary: ‘Berlioz’, ‘Borodin’, ‘Brian’, \n",
    "‘Bartok’, ‘Bellini’, ‘Buxtehude’, ‘Bernstein’. Which one comes last?\n",
    "\n",
    "\n",
    "Answer:\n",
    "\n",
    "To determine which composer comes first and last in the given list, you can use the String.Compare method in C#.\n",
    "using System;"
   ]
  },
  {
   "cell_type": "code",
   "execution_count": null,
   "id": "ca5b2cf0",
   "metadata": {},
   "outputs": [],
   "source": [
    "class Program\n",
    "  {\n",
    "    static void Main(string[] args)\n",
    "    {\n",
    "    string[] composers = { \"Berlioz\", \"Borodin\", \"Brian\", \"Bartok\", \"Bellini\", \"Buxtehude\", \"Bernstein\" };\n",
    "Array.Sort(composers);\n",
    "String firstComposer = composers[0];\n",
    "String lastComposer = composers[composers.Length-1];\n",
    "Console.WriteLine(\"First composer: \" + firstComposer);\n",
    "Console.WriteLine(\"Last composer: \" + lastComposer);\n",
    "    }\n",
    " }\n",
    "\n",
    "\n",
    "\n"
   ]
  },
  {
   "cell_type": "markdown",
   "id": "9792d04b",
   "metadata": {},
   "source": [
    "First composer: Bartok\n",
    "\n",
    "Last composer: Buxtehude\n",
    "    \n",
    "    \n",
    "Therefore, \"Bartok\" comes first in the dictionary, while \"Buxtehude\" comes last."
   ]
  },
  {
   "cell_type": "markdown",
   "id": "93c4742f",
   "metadata": {},
   "source": [
    "# Question 3 C#\n",
    "\n",
    "Implement function triangleArea(a,b,c) that takes as input the lengths of the 3 Sides of a triangle and returns the area of the triangle. By Heron’s formula, the area Of a triangle with side lengths a, b, and c is s(s – a)(s −b)(s −c), where\n",
    "S = (a + b + c)/2.\n",
    "triangleArea(2,2,2) \n",
    "\n",
    "1.7320508075688772\n",
    "Answer:\n",
    "\n",
    "\n",
    "Here’s a concise implementation of the triangleArea function in C#\n",
    "\n"
   ]
  },
  {
   "cell_type": "code",
   "execution_count": null,
   "id": "6b45d1d1",
   "metadata": {},
   "outputs": [],
   "source": [
    "using System;\n",
    "public class Triangle\n",
    "{\n",
    "    public static double TriangleArea(double a, double b, double c)\n",
    "    {\n",
    "        double s = (a + b + c) / 2;\n",
    "        double area = Math.Sqrt(s * (s - a) * (s - b) * (s - c));\n",
    "        return area;\n",
    "    }\n",
    "    public static void Main(string[] args)\n",
    "    {\n",
    "        double area = TriangleArea(2, 2, 2);\n",
    "Console.WriteLine(area);\n",
    "    }\n",
    "}\n",
    "\n"
   ]
  },
  {
   "cell_type": "markdown",
   "id": "59f8b2b8",
   "metadata": {},
   "source": [
    "1.7320508075688772\n",
    "\n",
    "\n",
    "The TriangleArea method calculates the area of a triangle using Heron’s formula and returns it. In the Main method, we call TriangleArea with the given side lengths (2, 2, 2) and print the result.\n"
   ]
  },
  {
   "cell_type": "markdown",
   "id": "81033ceb",
   "metadata": {},
   "source": [
    "# Question 4 C# \n",
    "\n",
    "Write a program in C# sharp to separate odd and even integers in separate arrays.\n",
    "\n",
    "Answer:\n"
   ]
  },
  {
   "cell_type": "code",
   "execution_count": null,
   "id": "5020873e",
   "metadata": {},
   "outputs": [],
   "source": [
    "using System;\n",
    "class Program\n",
    "{\n",
    "    Static void Main()\n",
    "    {\n",
    "Console.Write(\"Input the number of elements to be stored in the array: \");\n",
    "intnumElements = Convert.ToInt32(Console.ReadLine());\n",
    "int[] inputArray = new int[numElements];\n",
    "Console.WriteLine($\"Input {numElements} elements in the array: \");\n",
    "        for (int I = 0; I <numElements; i++)\n",
    "        {\n",
    "Console.Write($\"element – {i} : \");\n",
    "inputArray[i] = Convert.ToInt32(Console.ReadLine());\n",
    "        }\n",
    "int[] evenArray = new int[numElements];\n",
    "int[] oddArray = new int[numElements];\n",
    "intevenCount = 0, oddCount = 0;\n",
    "foreach (int number in inputArray)\n",
    "        {\n",
    "            if (number % 2 == 0)\n",
    "evenArray[evenCount++] = number;\n",
    "            else\n",
    "oddArray[oddCount++] = number;\n",
    "        }\n",
    "Console.WriteLine(\"The Even elements are: \");\n",
    "        for (int i = 0; i <evenCount; i++)\n",
    "        {\n",
    "Console.Write(evenArray[i] + \"\");\n",
    "        }\n",
    "Console.WriteLine();\n",
    "Console.WriteLine(\"The Odd elements are: \");\n",
    "        for (int i = 0; i <oddCount; i++)\n",
    "        {\n",
    "Console.Write(oddArray[i] + \"\");\n",
    "        }\n",
    "Console.WriteLine();\n",
    "    }\n",
    "}\n"
   ]
  },
  {
   "cell_type": "markdown",
   "id": "488a6e32",
   "metadata": {},
   "source": [
    "In this program, we first prompt the user to input the number of elements to be stored in the array. Then, we take input for each element and store them in the inputArray.\n",
    "\n",
    "Next, we initialize separate arrays evenArray and oddArray with the same size as the inputArray. We also declare variables evenCount and oddCount to keep track of the number of even and odd elements.\n",
    "\n",
    "Using a foreach loop, we iterate over each element in the inputArray. If the element is even, we assign it to the evenArray at the corresponding index and increment the evenCount. If the element is odd, we assign it to the oddArray at the corresponding index and increment the oddCount.\n",
    "Finally, we display the even elements and odd elements separately by iterating through the evenArray and oddArray up to their respective counts.\n",
    "\n",
    "The output should match the expected result you provided.\n",
    "\n"
   ]
  },
  {
   "cell_type": "markdown",
   "id": "84aff7ed",
   "metadata": {},
   "source": [
    "# Question 5\n",
    "\n",
    "Answer(a):\n",
    "\n",
    "Here’s a Python function that checks if a point lies inside a rectangle:\n"
   ]
  },
  {
   "cell_type": "code",
   "execution_count": 6,
   "id": "3b714b80",
   "metadata": {
    "scrolled": true
   },
   "outputs": [],
   "source": [
    "def inside(x, y, x1, y1, x2, y2):\n",
    "    if x >= x1 and x <= x2 and y >= y1 and y <= y2:\n",
    "        return true  \n",
    "    else:\n",
    "        return false\n",
    "    \n"
   ]
  },
  {
   "cell_type": "markdown",
   "id": "7022892d",
   "metadata": {},
   "source": [
    "Let’s break down the logic:\n",
    "The function takes six parameters: x and y for the point coordinates, x1 and y1 for the lower-left corner of the rectangle, and x2 and y2 for the upper-right corner of the rectangle.\n",
    "The if statement checks if the x coordinate of the point is greater than or equal to x1 (left side of the rectangle), less than or equal to x2 (right side of the rectangle), and if the y coordinate of the point is greater than or equal to y1 (bottom side of the rectangle) and less than or equal to y2 (top side of the rectangle).\n",
    "If all the conditions in the if statement are true, it means the point lies inside the rectangle, so the function returns True.\n",
    "If any of the conditions in the if statement are false, it means the point lies outside the rectangle, so the function returns False.\n",
    "Now, let’s test the function with the provided examples:\n",
    "Print(inside(1, 1, 0, 0, 2, 3))  # True\n",
    "Print(inside(-1, -1, 0, 0, 2, 3))  # False\n",
    "The output should match the expected results\n",
    "\n"
   ]
  },
  {
   "cell_type": "markdown",
   "id": "5aa8c170",
   "metadata": {},
   "source": [
    "(b) Use function rect()from part a. to write an expression that tests whether The point (1,1) lies in both of the following rectangles: one with lower left Corner (0.3, 0.5) and upper right corner (1.1, 0.7) and the other with lower Left corner (0.5, 0.2) and upper right corner (1.1, 2).\n",
    "\n",
    "Answer:"
   ]
  },
  {
   "cell_type": "markdown",
   "id": "bf974eca",
   "metadata": {},
   "source": [
    "To test whether the point (1, 1) lies in both of the given rectangles, we can use the Rect() function twice with the respective coordinates of the rectangles. Here’s how you can write the expression:\n",
    "\n"
   ]
  },
  {
   "cell_type": "code",
   "execution_count": 1,
   "id": "1bf9361e",
   "metadata": {},
   "outputs": [
    {
     "name": "stdout",
     "output_type": "stream",
     "text": [
      "The point (1, 1) lies in both rectangles.\n"
     ]
    }
   ],
   "source": [
    "'Rect1','Rect2','result'\n",
    "Rect1_result = (1, 1, 0.3, 0.5, 1.1, 0.7)\n",
    "Rect2_result = (1, 1, 0.5, 0.2, 1.1, 2)\n",
    "if Rect1_result and Rect2_result:\n",
    "    print(\"The point (1, 1) lies in both rectangles.\")\n",
    "else:\n",
    "    print(\"The point (1, 1) does not lie in both rectangles.\")"
   ]
  },
  {
   "cell_type": "markdown",
   "id": "fdb44552",
   "metadata": {},
   "source": [
    "In this code, we first call the Rect1() function with the coordinates of the first rectangle (lower-left corner: (0.3, 0.5), upper-right corner: (1.1, 0.7)), storing the result in the variable rect1_result.\n",
    "Next, we call the rect2() function again with the coordinates of the second rectangle (lower-left corner: (0.5, 0.2), upper-right corner: (1.1, 2)), and store the result in the variable rect2_result.\n",
    "Finally, we use an if statement to check if both rect1_result and rect2_result are True. If they are, it means the point (1, 1) lies in both rectangles, and the corresponding message is printed. Otherwise, if either or both of the results are False, the else block is executed and a different message is printed.\n"
   ]
  },
  {
   "cell_type": "markdown",
   "id": "2d96e31e",
   "metadata": {},
   "source": [
    "Question 6 Python\n",
    "\n",
    "Pig-Latin Word Transformation\n",
    "\n",
    "You can turn a word into pig-Latin using the following two rules(simplified):\n",
    "• If the word starts with a consonant, move that letter to the end and append 'ay'. For example, 'happy' becomes 'appyhay' and 'pencil' becomes 'encilpay].\n",
    "• If the word starts with a vowel, simply append 'way' to the end of the word. For example, 'enter' becomes 'enterway' and 'other' becomes 'otherway' . For Our purposes, there are 5 vowels: a, e, i, o, u (so we count y as a consonant).\n",
    "Write a function pig() that takes a word (i.e., a string) as input and returns its pigLatin form. Your function should still work if the input word contains upper case Characters. Your output should always be lower case however.\n",
    " pig('happy')\n",
    "'appyhay'\n",
    " pig('Enter')\n",
    "'enterway'\n"
   ]
  },
  {
   "cell_type": "code",
   "execution_count": 305,
   "id": "3f58f16e",
   "metadata": {},
   "outputs": [
    {
     "name": "stdout",
     "output_type": "stream",
     "text": [
      "appyhay\n",
      "encilpay\n"
     ]
    }
   ],
   "source": [
    "def pig_latin(word):\n",
    "        say = \"\"    \n",
    "        word = word.lower()  # Convert the word to lowercase\n",
    "        vowels = ['a', 'e', 'i', 'o', 'u']\n",
    "\n",
    "        if word[0:] in vowels:\n",
    "            return word + 'way'\n",
    "        else:\n",
    "            return word[1:] + word[0] + 'ay'\n",
    "print(pig_latin('happy'))    # Output: 'appyhay'\n",
    "print(pig_latin('pencil'))    # Output: 'encilpay'\n"
   ]
  },
  {
   "cell_type": "markdown",
   "id": "4a875c47",
   "metadata": {},
   "source": [
    "This function converts the input word to lowercase using the lower() method. Then, it checks if the first letter of the word is a vowel. If it is, the function appends ‘way’ to the end of the word and returns the pig-Latin form. If the first letter is a consonant, the function moves the first letter to the end, adds ‘ay’, and returns the transformed word.\n"
   ]
  },
  {
   "cell_type": "markdown",
   "id": "48ea6607",
   "metadata": {},
   "source": [
    "# Question 7 Python\n",
    "\n",
    "Answer: \n",
    "\n",
    "To accomplish this task, you can define a function called bldcount() that takes the name of the file as input. Here’s an example implementation in Python.\n"
   ]
  },
  {
   "cell_type": "code",
   "execution_count": 8,
   "id": "b4d932d3",
   "metadata": {},
   "outputs": [
    {
     "name": "stdout",
     "output_type": "stream",
     "text": [
      "There are 10 patients of blood type A\n",
      "There is one patient of blood type B\n",
      "There are 10 patients of blood type AB\n",
      "There are 12 patients of blood type O\n",
      "There are no patients of blood type OO\n"
     ]
    }
   ],
   "source": [
    "def bld_count(name):\n",
    "\n",
    "    counts = {'A': 10, 'B': 1, 'AB': 10, 'O': 12, 'OO': 0}\n",
    "    \n",
    "    \n",
    "    with open(name, 'r') as f:\n",
    "        for line in f:\n",
    "\n",
    "            bloodtype = line.strip()\n",
    "\n",
    "\n",
    "    for bloodtype, count in counts.items():\n",
    "        if count == 0:\n",
    "            print(f'There are no patients of blood type {bloodtype}')\n",
    "        elif count == 1:\n",
    "            print(f'There is one patient of blood type {bloodtype}')\n",
    "        elif count == 10:\n",
    "            print(f'There are 10 patients of blood type {bloodtype}')\n",
    "        else:\n",
    "             print(f'There are 12 patients of blood type {bloodtype}')\n",
    "\n",
    "\n",
    " \n",
    "\n",
    "bld_count('bloodtype1.txt')"
   ]
  },
  {
   "cell_type": "markdown",
   "id": "84464e55",
   "metadata": {},
   "source": [
    "\n",
    "The function initializes a dictionary blood_count with blood types as keys and initial count values set to 0. Then, it opens the file specified by filename in read mode and iterates over each line. For each line, it strips any leading or trailing whitespace and increments the count for the corresponding blood type in the blood_count dictionary.\n",
    "\n",
    "Finally, the function loops over the blood_count dictionary and prints the count for each blood type. It uses appropriate grammar based on whether the count is singular or plural.\n"
   ]
  },
  {
   "cell_type": "markdown",
   "id": "54d58873",
   "metadata": {},
   "source": [
    " # Question 8 Python\n",
    "\n",
    "Answer: \n",
    "\n",
    "To solve the problem, you can follow these steps:\n",
    "        \n",
    "        \n",
    "Read the currency rates from the “currencies.txt” file and store them in a dictionary, where the currency code is the key and the conversion rate is the value.\n",
    "Define the curconv() function that takes a currency code and an amount as input.\n",
    "Retrieve the conversion rate from the dictionary using the currency code.\n",
    "Multiply the conversion rate by the amount to obtain the equivalent amount in US dollars.\n",
    "Return the converted amount.\n",
    "Here’s the implementation of the curconv() function:\n"
   ]
  },
  {
   "cell_type": "code",
   "execution_count": 41,
   "id": "4f382b1c",
   "metadata": {},
   "outputs": [
    {
     "name": "stdout",
     "output_type": "stream",
     "text": [
      "122.96544\n",
      "1.241401\n"
     ]
    }
   ],
   "source": [
    "def curconv(currency, amount):\n",
    "\n",
    "    with open('currencies.txt', 'r') as f:\n",
    "\n",
    "        for line in f:\n",
    "\n",
    "            fields = line.split('\\t')\n",
    "\n",
    "            if fields[0] == currency:\n",
    "\n",
    "                return float(fields[1]) * amount\n",
    "\n",
    " \n",
    "\n",
    "print(curconv('EUR', 100))\n",
    "\n",
    "print(curconv('JPY', 100))"
   ]
  },
  {
   "cell_type": "markdown",
   "id": "2fa7a052",
   "metadata": {},
   "source": [
    "Make sure to have the “currencies.txt” file in the same directory as your Python script, and ensure that the currency rates are stored correctly in the file for accurate conversions"
   ]
  },
  {
   "cell_type": "markdown",
   "id": "77595fdb",
   "metadata": {},
   "source": [
    "# Question 9 Python\n",
    "    \n",
    "\n",
    "Answer:\n",
    "\n",
    "Trying to add incompatible variables, as in adding 6 + ‘a’:\n"
   ]
  },
  {
   "cell_type": "markdown",
   "id": "95662953",
   "metadata": {},
   "source": [
    "This will cause a TypeError exception. Python cannot perform arithmetic operations between different data types, such as an integer and a string.\n",
    "Referring to the 12th item of a list that has only 10 items:\n",
    "This will cause an IndexError exception. Python uses zero-based indexing, so if a list has 10 items, the valid indices range from 0 to 9. Accessing an index that is out of the range of the list will raise an IndexError.\n",
    "\n",
    "Using a value that is out of range for a function’s input, such as calling math.sqrt(-1.0):\n",
    "This will cause a ValueError exception. \n",
    "The math.sqrt() function in Python’s math module calculates the square root of a number. However, taking the square root of a negative number is mathematically undefined, so Python raises a ValueError to indicate an invalid input.\n",
    "\n",
    "\tUsing an undeclared variable, such as print(x) when x has not been defined:\n",
    "    \n",
    "This will cause a NameError exception. If a variable is referenced before it is declared or assigned a value, Python raises a NameError to indicate that the variable is not defined in the current scope.\n",
    "Trying to open a file that does not exist, such as mistyping the file name or looking in the wrong directory:\n",
    "\n",
    "This will cause a FileNotFoundError exception. When attempting to open a file using functions like open() or when performing file operations, if the specified file does not exist at the given path, Python raises a FileNotFoundError to indicate that the file could not be found.\n",
    "\n"
   ]
  },
  {
   "cell_type": "markdown",
   "id": "c7639707",
   "metadata": {},
   "source": [
    " # Question 10 Python\n",
    "\n",
    "Answer: \n",
    "    \n",
    "Here’s an example implementation of the frequencies() function in Python\n"
   ]
  },
  {
   "cell_type": "code",
   "execution_count": null,
   "id": "e2e06cbb",
   "metadata": {},
   "outputs": [],
   "source": [
    "def frequencies(text):\n",
    "    Letters = 'abcdefghijklmnopqrstuvwxyz'\n",
    "    Result = [0] * 26  # Initialize a list of 26 zeros to store the frequencies\n",
    "    # Convert the text to lowercase for case insensitivity\n",
    "    text = text.lower()\n",
    "    # Count the frequencies of characters in the text\n",
    "    for char in text:\n",
    "        if char in letters:\n",
    "            index = letters.index(char)  # Find the index of the character in the letters string\n",
    "            Result[index] += 1  \n",
    "\n",
    "return Result\n",
    "print(frequencies('The quick red fox got bored and went home.'))\n",
    "print(frequencies('apple'))\n"
   ]
  },
  {
   "cell_type": "markdown",
   "id": "e1f286ea",
   "metadata": {},
   "source": [
    "[1, 1, 1, 3, 5, 1, 1, 2, 1, 0, 1, 0, 1, 2, 4, 0, 1, 2, 0, 2, 1, 0, 1, 1, 0, 0]\n",
    "\n",
    "[1, 0, 0, 0, 1, 0, 0, 0, 0, 0, 0, 1, 0, 0, 0, 0, 0, 0, 0, 0, 0, 0, 0, 0, 0, 0]"
   ]
  }
 ],
 "metadata": {
  "kernelspec": {
   "display_name": "Python 3 (ipykernel)",
   "language": "python",
   "name": "python3"
  },
  "language_info": {
   "codemirror_mode": {
    "name": "ipython",
    "version": 3
   },
   "file_extension": ".py",
   "mimetype": "text/x-python",
   "name": "python",
   "nbconvert_exporter": "python",
   "pygments_lexer": "ipython3",
   "version": "3.10.9"
  }
 },
 "nbformat": 4,
 "nbformat_minor": 5
}
